{
  "nbformat": 4,
  "nbformat_minor": 0,
  "metadata": {
    "colab": {
      "name": "Food Optimisation Problem.ipynb",
      "provenance": [],
      "authorship_tag": "ABX9TyNQoXi/M5yZLwy1NN6iyFmw",
      "include_colab_link": true
    },
    "kernelspec": {
      "name": "python3",
      "display_name": "Python 3"
    }
  },
  "cells": [
    {
      "cell_type": "markdown",
      "metadata": {
        "id": "view-in-github",
        "colab_type": "text"
      },
      "source": [
        "<a href=\"https://colab.research.google.com/github/louispaulet/Classfication_and_Representation_Learning_course/blob/main/Food_Optimisation_Problem.ipynb\" target=\"_parent\"><img src=\"https://colab.research.google.com/assets/colab-badge.svg\" alt=\"Open In Colab\"/></a>"
      ]
    },
    {
      "cell_type": "code",
      "metadata": {
        "id": "rEwXxbYmpwgC",
        "colab": {
          "base_uri": "https://localhost:8080/",
          "height": 119
        },
        "outputId": "c2a449db-e64a-408e-bada-b0ccb58b1b3b"
      },
      "source": [
        "from scipy.optimize import linprog\n",
        "import numpy as np\n",
        "#protein | fat | fibre | salt\n",
        "Chicken = [0.1, 0.08, 0.001, 0.002]\n",
        "Beef = [0.2, 0.1, 0.005, 0.005]\n",
        "Mutton = [0.15, 0.11, 0.003, 0.007]\n",
        "Rice = [0.0, 0.01, 0.1, 0.008]\n",
        "Wheat = [0.04, 0.01, 0.15, 0.0]\n",
        "Gel = [0.0, 0.0, 0.0, 0.0]\n",
        "\n",
        "pChicken = 0.013\n",
        "pBeef = 0.008\n",
        "pMutton = 0.010\n",
        "pRice = 0.002\n",
        "pWheat = 0.005\n",
        "pGel = 0.001\n",
        "\n",
        "prices = np.array([pChicken, pBeef, pMutton, pRice, pWheat, pGel])\n",
        "\n",
        "\n",
        "Nutrition_mat = [Chicken, Beef, Mutton, Rice, Wheat, Gel]\n",
        "Nutrition_mat = np.array(Nutrition_mat) #convert to numpy array so indexes work properly\n",
        "Nutrition_mat"
      ],
      "execution_count": null,
      "outputs": [
        {
          "output_type": "execute_result",
          "data": {
            "text/plain": [
              "array([[0.1  , 0.08 , 0.001, 0.002],\n",
              "       [0.2  , 0.1  , 0.005, 0.005],\n",
              "       [0.15 , 0.11 , 0.003, 0.007],\n",
              "       [0.   , 0.01 , 0.1  , 0.008],\n",
              "       [0.04 , 0.01 , 0.15 , 0.   ],\n",
              "       [0.   , 0.   , 0.   , 0.   ]])"
            ]
          },
          "metadata": {
            "tags": []
          },
          "execution_count": 170
        }
      ]
    },
    {
      "cell_type": "code",
      "metadata": {
        "id": "AAOwnA8fsWjb"
      },
      "source": [
        "#function to minimize\n",
        "#min(qC*pChicken+qB*pBeef+qM*pMutton+qR*pRice+qW*pWheat+qG*pGel)\n",
        "#Quantities_Vector = [qC, qB, qM, qR, qW, qG]\n",
        "#constraints\n",
        "#sum(Quantities_Matrix*Nutrition_mat[:,0] > 8\n",
        "#sum(Quantities_Matrix*Nutrition_mat[:,0] > 6\n",
        "#sum(Quantities_Matrix*Nutrition_mat[:,0] > 2\n",
        "#sum(Quantities_Matrix*Nutrition_mat[:,0] < 0.4\n",
        "#sum(Quantities_Matrix) = 100\n",
        "\n",
        "obj = [pChicken, pBeef, pMutton, pRice, pWheat, pGel]\n",
        "\n",
        "#we multiply the \"greater than\" conditions by \"-1\" because scipy can only deal \"inferior than\" conditions \n",
        "lhs_ineq = np.array([\n",
        "         -1 * Nutrition_mat[:, 0],\n",
        "         -1 * Nutrition_mat[:, 1],\n",
        "         -1 * Nutrition_mat[:, 2],\n",
        "         Nutrition_mat[:, 3]\n",
        "])\n",
        "\n",
        "#same for the other side of the inequality\n",
        "rhs_ineq = np.array([-8, -6, -2, 0.4])\n",
        "\n",
        "lhs_eq = np.array([[1, 1, 1, 1, 1, 1]])\n",
        "rhs_eq = [100]"
      ],
      "execution_count": null,
      "outputs": []
    },
    {
      "cell_type": "code",
      "metadata": {
        "id": "yJ_RoraRvbve"
      },
      "source": [
        "#we cannot make a recipe with negative food quantities so all constraints are positive\n",
        "bnd = [(0, float(\"inf\")), # Bounds of qChicken\n",
        "       (0, float(\"inf\")), # Bounds of qBeef\n",
        "       (0, float(\"inf\")), # Bounds of qMutton\n",
        "       (0, float(\"inf\")), # Bounds of qRice\n",
        "       (0, float(\"inf\")), # Bounds of qWheat\n",
        "      (0, float(\"inf\"))]  # Bounds of qGel"
      ],
      "execution_count": null,
      "outputs": []
    },
    {
      "cell_type": "code",
      "metadata": {
        "id": "nJw1FnzpxLye",
        "colab": {
          "base_uri": "https://localhost:8080/",
          "height": 170
        },
        "outputId": "125772d4-00d2-4dbb-940c-03e68b410165"
      },
      "source": [
        " #execute linear programming\n",
        " opt = linprog(c=obj, A_ub=lhs_ineq, b_ub=rhs_ineq,\n",
        "               A_eq=lhs_eq, b_eq=rhs_eq, bounds=bnd,\n",
        "               method=\"revised simplex\")\n",
        " \n",
        "\n",
        " opt"
      ],
      "execution_count": null,
      "outputs": [
        {
          "output_type": "execute_result",
          "data": {
            "text/plain": [
              "     con: array([-1.42108547e-14])\n",
              "     fun: 0.531938514090521\n",
              " message: 'Optimization terminated successfully.'\n",
              "     nit: 4\n",
              "   slack: array([ 3.77796755e+00,  1.77635684e-15, -2.22044605e-16, -5.55111512e-17])\n",
              "  status: 0\n",
              " success: True\n",
              "       x: array([ 0.        , 58.41161401,  0.        , 13.49274125,  2.3911187 ,\n",
              "       25.70452605])"
            ]
          },
          "metadata": {
            "tags": []
          },
          "execution_count": 173
        }
      ]
    },
    {
      "cell_type": "code",
      "metadata": {
        "id": "Cnz-EDfLF45K",
        "colab": {
          "base_uri": "https://localhost:8080/",
          "height": 136
        },
        "outputId": "a7c9e3fc-bc44-4257-e95b-0bf46c3314ef"
      },
      "source": [
        "#checking that the solution satisfies the constraints\n",
        "quantities = np.array(opt.x)\n",
        "print (\"price :\" + str(round(np.sum(quantities * prices), 3)) + \" | total weight : \" + str(round(np.sum(quantities), 3)))\n",
        "\n",
        "nutritional_values_of_finished_product = np.sum(np.transpose([quantities]) * Nutrition_mat, 0) #axis=0 to sum the rows over each column\n",
        "nutrition_labels = [\"Protein\", \"Fat\", \"Fibre\", \"Salt\"]\n",
        "\n",
        "print(\"\\nNutritional values:\")\n",
        "i = 0\n",
        "for nutrition_label in nutrition_labels:\n",
        "  print(\"- \" + nutrition_label + \" : \" + str(round(nutritional_values_of_finished_product[i], 3)))\n",
        "  i += 1"
      ],
      "execution_count": null,
      "outputs": [
        {
          "output_type": "stream",
          "text": [
            "price :0.532 | total weight : 100.0\n",
            "\n",
            "Nutritional values:\n",
            "- Protein : 11.778\n",
            "- Fat : 6.0\n",
            "- Fibre : 2.0\n",
            "- Salt : 0.4\n"
          ],
          "name": "stdout"
        }
      ]
    }
  ]
}