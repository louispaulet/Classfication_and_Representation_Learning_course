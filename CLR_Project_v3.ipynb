{
  "nbformat": 4,
  "nbformat_minor": 0,
  "metadata": {
    "colab": {
      "name": "CLR Project v3.ipynb",
      "provenance": [],
      "collapsed_sections": [],
      "authorship_tag": "ABX9TyNyeRYuAj8XZvaRARKsWzXd",
      "include_colab_link": true
    },
    "kernelspec": {
      "name": "python3",
      "display_name": "Python 3"
    }
  },
  "cells": [
    {
      "cell_type": "markdown",
      "metadata": {
        "id": "view-in-github",
        "colab_type": "text"
      },
      "source": [
        "<a href=\"https://colab.research.google.com/github/louispaulet/Classfication_and_Representation_Learning_course/blob/main/CLR_Project_v3.ipynb\" target=\"_parent\"><img src=\"https://colab.research.google.com/assets/colab-badge.svg\" alt=\"Open In Colab\"/></a>"
      ]
    },
    {
      "cell_type": "code",
      "metadata": {
        "id": "ZkmT59YwwUgT",
        "colab": {
          "base_uri": "https://localhost:8080/",
          "height": 282
        },
        "outputId": "622fefb2-3eaa-46aa-b1bd-8b8125478703"
      },
      "source": [
        "import matplotlib\n",
        "import numpy as np\n",
        "import matplotlib.cm as cm\n",
        "import matplotlib.pyplot as plt\n",
        "from google.colab import files\n",
        "import random\n",
        "\n",
        "\n",
        "matrix_pos = np.loadtxt(open('data.txt'),delimiter=',')\n",
        "\n",
        "def display_cells(cell_matrix):\n",
        "  #get x and y coords from matrix\n",
        "  x = cell_matrix[:, 1]\n",
        "  y = cell_matrix[:, 2]\n",
        "  print(plt.scatter(x, y, c = 'red'))\n",
        "\n",
        "display_cells(matrix_pos)"
      ],
      "execution_count": null,
      "outputs": [
        {
          "output_type": "stream",
          "text": [
            "<matplotlib.collections.PathCollection object at 0x7f883db8f7b8>\n"
          ],
          "name": "stdout"
        },
        {
          "output_type": "display_data",
          "data": {
            "image/png": "[encoded data removed]",
            "text/plain": [
              "<Figure size 432x288 with 1 Axes>"
            ]
          },
          "metadata": {
            "tags": [],
            "needs_background": "light"
          }
        }
      ]
    },
    {
      "cell_type": "markdown",
      "metadata": {
        "id": "hx_P691COK0w"
      },
      "source": [
        "We are trying some QLEARNING"
      ]
    },
    {
      "cell_type": "code",
      "metadata": {
        "id": "1iFPVloR6Au-"
      },
      "source": [
        "#create hyperparams\n",
        "total_episodes = 10000       # Total episodes\n",
        "learning_rate = 0.7          # Learning rate\n",
        "max_steps = 99               # Max steps per episode\n",
        "gamma = 0.95                 # Discounting rate\n",
        "\n",
        "# Exploration parameters\n",
        "epsilon = 1.0                 # Exploration rate\n",
        "max_epsilon = 1.0             # Exploration probability at start\n",
        "min_epsilon = 0.01            # Minimum exploration probability \n",
        "decay_rate = 0.005            # Exponential decay rate for exploration prob"
      ],
      "execution_count": null,
      "outputs": []
    },
    {
      "cell_type": "code",
      "metadata": {
        "id": "nJ-RCZv4Oa-1",
        "colab": {
          "base_uri": "https://localhost:8080/",
          "height": 85
        },
        "outputId": "856506a2-d6e2-4f15-892d-b355eab93f3a"
      },
      "source": [
        "#create qtable\n",
        "# action indexes\n",
        "move = 0\n",
        "eat = 1\n",
        "# state indexes\n",
        "start = 0\n",
        "nothing = 1\n",
        "cell_eaten = 2\n",
        "death = 3\n",
        "\n",
        "#create empty qtable\n",
        "qtable = np.zeros((4, 2))\n",
        "qtable"
      ],
      "execution_count": null,
      "outputs": [
        {
          "output_type": "execute_result",
          "data": {
            "text/plain": [
              "array([[0., 0.],\n",
              "       [0., 0.],\n",
              "       [0., 0.],\n",
              "       [0., 0.]])"
            ]
          },
          "metadata": {
            "tags": []
          },
          "execution_count": 203
        }
      ]
    },
    {
      "cell_type": "code",
      "metadata": {
        "id": "vXPswEG_QbRg"
      },
      "source": [
        "#create the step action that will tell use in what state we are, what is the reward and penalty\n",
        "def step(action):\n",
        "  if action == 'move xy'\n",
        "    penalty = 'distance pos -> xy'\n",
        "    state =  'move'\n",
        "  elif action == 'eat'\n",
        "    reward += 'cell score'\n",
        "    penalty = 'distance pos -> cell_pos(xy)'\n",
        "    state = 'eat'\n",
        "  return state, reward, penalty"
      ],
      "execution_count": null,
      "outputs": []
    },
    {
      "cell_type": "code",
      "metadata": {
        "id": "9fxpcLqMP_vu"
      },
      "source": [
        "#training loop\n",
        "for step in range(max_steps):\n",
        "  "
      ],
      "execution_count": null,
      "outputs": []
    },
    {
      "cell_type": "code",
      "metadata": {
        "id": "81qLxd_1XEm2"
      },
      "source": [
        "from sklearn.metrics.pairwise import euclidean_distances\n",
        "\n",
        "#project parameters\n",
        "current_coords = [[0, 0]]\n",
        "time_left = 10000\n",
        "score = 0\n",
        "eaten_list = []\n",
        "\n",
        "def compute_cell_distances(cell_matrix, position):\n",
        "  #compute distances between all cells and current point\n",
        "  distances = euclidean_distances(cell_matrix[:, 1:3], position)\n",
        "\n",
        "  matrix_distances = np.c_[cell_matrix, distances]\n",
        "\n",
        "  return matrix_distances\n",
        "\n",
        "# id, matrix_pos = find_closest_cell(matrix_pos, position)"
      ],
      "execution_count": null,
      "outputs": []
    },
    {
      "cell_type": "code",
      "metadata": {
        "id": "g2ItG8IpxNxD"
      },
      "source": [
        "def compute_cell_scores(cell_matrix, penality = 1):\n",
        "  #divide cell score value by distance to compute distance related score\n",
        "  score = np.divide(cell_matrix[:, 3],cell_matrix[:, 4]**penality)\n",
        "  cell_matrix = np.c_[cell_matrix, score]\n",
        "\n",
        "  return cell_matrix\n",
        "\n",
        "#compute_cell_scores(matrix_pos)[4]  "
      ],
      "execution_count": null,
      "outputs": []
    },
    {
      "cell_type": "code",
      "metadata": {
        "id": "W1qZ5eznz4oc"
      },
      "source": [
        "def get_best_cell(cell_matrix):\n",
        "  #get index at which the smallest distance is located\n",
        "  id = np.where(cell_matrix[:, 5] == np.amax(cell_matrix[:, 5]))[0][0]\n",
        "  return id\n",
        "\n",
        "#get_best_cell(matrix_pos)"
      ],
      "execution_count": null,
      "outputs": []
    },
    {
      "cell_type": "code",
      "metadata": {
        "id": "YZvCo6qR3IyO"
      },
      "source": [
        "def remove_used_scores(cell_matrix):\n",
        "\n",
        "  cell_matrix = np.delete(cell_matrix, 5, 1)\n",
        "  cell_matrix = np.delete(cell_matrix, 4, 1)\n",
        "  return cell_matrix"
      ],
      "execution_count": null,
      "outputs": []
    },
    {
      "cell_type": "code",
      "metadata": {
        "id": "k8tg3SBXu6vf"
      },
      "source": [
        "def eat_cell(id, time_left, score, eaten_list, cell_matrix, default_position):\n",
        "  if (time_left - cell_matrix[id][4]) > 0: \n",
        "    time_left -= cell_matrix[id][4] #remove time-distance\n",
        "    score += cell_matrix[id][3] #add score\n",
        "    current_coords = [[cell_matrix[id][1], cell_matrix[id][2]]] #update position\n",
        "    eaten_list = np.append(eaten_list, cell_matrix[id][0]) #add cell id to the kill list\n",
        "    cell_matrix = np.delete(cell_matrix, (id), axis=0) #remove eaten cell\n",
        "  else:\n",
        "    current_coords = default_position #case where we can't eat a cell\n",
        "  return time_left, score, current_coords, eaten_list, cell_matrix\n",
        "\n",
        "# time_left, score, current_coords, eaten_list, matrix_pos = eat_cell(id, time_left, score, eaten_list, matrix_pos)\n",
        "\n",
        "# matrix_pos[0]"
      ],
      "execution_count": null,
      "outputs": []
    },
    {
      "cell_type": "code",
      "metadata": {
        "id": "WsStazu_Fqc8",
        "colab": {
          "base_uri": "https://localhost:8080/",
          "height": 34
        },
        "outputId": "0c609191-3924-44a2-d2df-438b9f36d85b"
      },
      "source": [
        "current_coords"
      ],
      "execution_count": null,
      "outputs": [
        {
          "output_type": "execute_result",
          "data": {
            "text/plain": [
              "[[0, 0]]"
            ]
          },
          "metadata": {
            "tags": []
          },
          "execution_count": 193
        }
      ]
    },
    {
      "cell_type": "code",
      "metadata": {
        "id": "aRg8VUfc4xWV",
        "colab": {
          "base_uri": "https://localhost:8080/",
          "height": 102
        },
        "outputId": "04451a5f-f7f8-46c7-ac4d-f43ab7bdcc22"
      },
      "source": [
        "time_out = 10000 # worst case scenario emergency exit\n",
        "penality = 3\n",
        "\n",
        "#game loop\n",
        "while(time_left > 0 and time_out > 0 and np.shape(matrix_pos)[0] != 0):\n",
        "\n",
        "  matrix_pos = compute_cell_distances(matrix_pos, current_coords)\n",
        "  matrix_pos = compute_cell_scores(matrix_pos, penality)\n",
        "  id = get_best_cell(matrix_pos)\n",
        "\n",
        "  default_position = current_coords\n",
        "  time_left, score, current_coords, eaten_list, matrix_pos = eat_cell(id, time_left, score, eaten_list, matrix_pos, default_position)\n",
        "  \n",
        "  matrix_pos = remove_used_scores(matrix_pos)\n",
        "  \n",
        "  time_out -= 1\n",
        "\n",
        "  #display here doesn't work, prints only addresses\n",
        "  # if (time_out % 5000 == 1):\n",
        "  #   display_cells(matrix_pos)\n",
        "\n",
        "time_left, score, current_coords,time_out, eaten_list"
      ],
      "execution_count": null,
      "outputs": [
        {
          "output_type": "execute_result",
          "data": {
            "text/plain": [
              "(3.3621629467840806,\n",
              " 340915.0,\n",
              " [[-89.21, -58.65]],\n",
              " 0,\n",
              " array([5478., 8498.,  220., ..., 6832., 8768., 7425.]))"
            ]
          },
          "metadata": {
            "tags": []
          },
          "execution_count": 194
        }
      ]
    },
    {
      "cell_type": "code",
      "metadata": {
        "id": "f_OKTmQKEqk0",
        "colab": {
          "base_uri": "https://localhost:8080/",
          "height": 282
        },
        "outputId": "5bf990b0-6596-4a98-d04c-e2ed957bfdc7"
      },
      "source": [
        "#display final matrix\n",
        "display_cells(matrix_pos)"
      ],
      "execution_count": null,
      "outputs": [
        {
          "output_type": "stream",
          "text": [
            "<matplotlib.collections.PathCollection object at 0x7f883dc7a860>\n"
          ],
          "name": "stdout"
        },
        {
          "output_type": "display_data",
          "data": {
            "image/png": "[encoded data removed]",
            "text/plain": [
              "<Figure size 432x288 with 1 Axes>"
            ]
          },
          "metadata": {
            "tags": [],
            "needs_background": "light"
          }
        }
      ]
    },
    {
      "cell_type": "code",
      "metadata": {
        "id": "NBMrsZGBMeqT"
      },
      "source": [
        "#export text file\n",
        "eaten_list = eaten_list.astype(int)\n",
        "np.savetxt(fname=\"output.csv\", delimiter=\",\",fmt='%i', X=eaten_list)\n",
        "# files.download('output.csv')"
      ],
      "execution_count": null,
      "outputs": []
    },
    {
      "cell_type": "code",
      "metadata": {
        "id": "dDN-HHH4OH9I",
        "colab": {
          "base_uri": "https://localhost:8080/",
          "height": 34
        },
        "outputId": "9f4b4969-c1d3-4f70-80af-cb84a39eeea1"
      },
      "source": [
        "eaten_list"
      ],
      "execution_count": null,
      "outputs": [
        {
          "output_type": "execute_result",
          "data": {
            "text/plain": [
              "array([5478, 8498,  220, ..., 6832, 8768, 7425])"
            ]
          },
          "metadata": {
            "tags": []
          },
          "execution_count": 197
        }
      ]
    }
  ]
}