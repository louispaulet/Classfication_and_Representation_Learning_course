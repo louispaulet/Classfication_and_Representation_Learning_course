{
  "nbformat": 4,
  "nbformat_minor": 0,
  "metadata": {
    "colab": {
      "name": "Tutorial2 CLR.ipynb",
      "provenance": [],
      "authorship_tag": "ABX9TyNArxizRHjdZGMZvFHl4LYA",
      "include_colab_link": true
    },
    "kernelspec": {
      "display_name": "Python 3",
      "name": "python3"
    }
  },
  "cells": [
    {
      "cell_type": "markdown",
      "metadata": {
        "id": "view-in-github",
        "colab_type": "text"
      },
      "source": [
        "<a href=\"https://colab.research.google.com/github/louispaulet/Classfication_and_Representation_Learning_course/blob/main/Tutorial2_CLR.ipynb\" target=\"_parent\"><img src=\"https://colab.research.google.com/assets/colab-badge.svg\" alt=\"Open In Colab\"/></a>"
      ]
    },
    {
      "cell_type": "code",
      "metadata": {
        "id": "y7jpISeJK4Ay",
        "colab": {
          "base_uri": "https://localhost:8080/",
          "height": 513
        },
        "outputId": "e2edc58a-8487-49a5-ce21-d6c7af1ffffd"
      },
      "source": [
        "from numpy import *\n",
        "import matplotlib.pyplot as plt\n",
        "\n",
        "#load the data set\n",
        "dataCirc = loadtxt('circular_classification.data')\n",
        "dataNL = loadtxt('nonlinear_classification.data')\n",
        "\n",
        "def visualize(data):\n",
        "  X = data[:, 0]\n",
        "  Y = data[:, 1]\n",
        "  plt.plot(X, Y, 'r.')\n",
        "  plt.show()\n",
        "\n",
        "visualize(dataCirc)\n",
        "visualize(dataNL)"
      ],
      "execution_count": null,
      "outputs": [
        {
          "output_type": "display_data",
          "data": {
            "image/png": "[encoded data removed]",
            "text/plain": [
              "<Figure size 432x288 with 1 Axes>"
            ]
          },
          "metadata": {
            "tags": [],
            "needs_background": "light"
          }
        },
        {
          "output_type": "display_data",
          "data": {
            "image/png": "[encoded data removed]",
            "text/plain": [
              "<Figure size 432x288 with 1 Axes>"
            ]
          },
          "metadata": {
            "tags": [],
            "needs_background": "light"
          }
        }
      ]
    },
    {
      "cell_type": "code",
      "metadata": {
        "id": "v3DTo0GxMMq1",
        "colab": {
          "base_uri": "https://localhost:8080/",
          "height": 34
        },
        "outputId": "223d628a-fed4-4e83-8daa-e460b0191486"
      },
      "source": [
        "# Separate the input from the output\n",
        "X = dataNL [ : , : 2 ]\n",
        "T = dataNL [ : , 2 ]\n",
        "N , d = X.shape\n",
        "# Parameters\n",
        "eta = 0.05 # learning rate\n",
        "K = 15 # Number of hidden neurons\n",
        "# Weights and biases\n",
        "max_val = 0.1\n",
        "W_hid = random.uniform(-max_val, max_val, (d , K))\n",
        "b_hid = random.uniform(-max_val, max_val, K)\n",
        "W_out = random.uniform(-max_val, max_val, K)\n",
        "b_out = random.uniform(-max_val, max_val, 1)\n",
        "\n",
        "W_hid.shape,b_hid.shape,W_out.shape,b_out.shape"
      ],
      "execution_count": null,
      "outputs": [
        {
          "output_type": "execute_result",
          "data": {
            "text/plain": [
              "((2, 15), (15,), (15,), (1,))"
            ]
          },
          "metadata": {
            "tags": []
          },
          "execution_count": 38
        }
      ]
    },
    {
      "cell_type": "code",
      "metadata": {
        "id": "JYVYqGNENht_"
      },
      "source": [
        "#Logistic transfer function for the hidden neurons\n",
        "def logistic(x):\n",
        "  return 1.0 / (1.0 + exp(-x))\n",
        "#Threshold transfer function for the output neuron\n",
        "def threshold(x):\n",
        "  data = x.copy()\n",
        "  data[data > 0.] = 1.\n",
        "  data[data < 0.] = -1.\n",
        "  return data\n",
        "def feedforward(X,W_hid,b_hid,W_out,b_out):\n",
        "  #Hidden layer\n",
        "  Y = logistic(dot(X, W_hid)+b_hid)\n",
        "  #Output layer\n",
        "  O = threshold(dot(Y, W_out)+b_out)\n",
        "  return Y,O"
      ],
      "execution_count": null,
      "outputs": []
    },
    {
      "cell_type": "code",
      "metadata": {
        "id": "3bK6yvZVBod5"
      },
      "source": [
        "def logistic_prime(o):\n",
        "  return o * (1 - o)"
      ],
      "execution_count": null,
      "outputs": []
    },
    {
      "cell_type": "code",
      "metadata": {
        "id": "mu-Zu-XyOTeA",
        "colab": {
          "base_uri": "https://localhost:8080/",
          "height": 88
        },
        "outputId": "8fb8c44f-d325-486b-c9f9-3b18668fdfae"
      },
      "source": [
        "errors = []\n",
        "#for epochs until timeout\n",
        "for epoch in range(1):\n",
        "  nb_errors = 0\n",
        "  #for each sample\n",
        "  for i in range(N):\n",
        "    x=X[i,:] #true input\n",
        "    t=T[i] #true ouput\n",
        "    y,o=feedforward(x,W_hid,b_hid,W_out,b_out)\n",
        "    if t != o: #if true output doesn't match predicted output\n",
        "      nb_errors += 1\n",
        "    delta_out = (t-o) #delta between predicted and true output\n",
        "    delta_hidden = delta_out * logistic_prime(o) #WIP\n",
        "    # print(delta_hidden)\n",
        "    W_out += eta * delta_out * W_out + b_out #TODO\n",
        "    b_out += eta * delta_out * b_out  #- b_hid * eta #TODO\n",
        "    \n",
        "    for k in range(K):\n",
        "      W_hid[:,k] += dot(x, W_out) * eta + b_hid #TODO\n",
        "    b_hid += - delta_hidden * eta * b_hid #TODO\n",
        "  if nb_errors == 0:\n",
        "    print('success')\n",
        "    break\n",
        "  \n",
        "nb_errors"
      ],
      "execution_count": null,
      "outputs": [
        {
          "output_type": "stream",
          "text": [
            "/usr/local/lib/python3.6/dist-packages/ipykernel_launcher.py:3: RuntimeWarning: overflow encountered in exp\n",
            "  This is separate from the ipykernel package so we can avoid doing imports until\n"
          ],
          "name": "stderr"
        },
        {
          "output_type": "execute_result",
          "data": {
            "text/plain": [
              "47"
            ]
          },
          "metadata": {
            "tags": []
          },
          "execution_count": 46
        }
      ]
    },
    {
      "cell_type": "code",
      "metadata": {
        "id": "Lep3C3y_RD6u",
        "colab": {
          "base_uri": "https://localhost:8080/",
          "height": 51
        },
        "outputId": "09b8b296-d867-401c-e884-932d125b9507"
      },
      "source": [
        "y, o\n",
        "# sum(W_hid * eta, axis=1)"
      ],
      "execution_count": null,
      "outputs": [
        {
          "output_type": "execute_result",
          "data": {
            "text/plain": [
              "(array([1., 1., 0., 1., 0., 0., 1., 1., 0., 1., 0., 0., 0., 1., 1.]),\n",
              " array([1.]))"
            ]
          },
          "metadata": {
            "tags": []
          },
          "execution_count": 41
        }
      ]
    },
    {
      "cell_type": "code",
      "metadata": {
        "id": "R1pPCvQwyeiF"
      },
      "source": [
        ""
      ],
      "execution_count": null,
      "outputs": []
    }
  ]
}